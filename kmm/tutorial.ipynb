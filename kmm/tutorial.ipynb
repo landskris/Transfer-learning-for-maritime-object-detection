{
 "cells": [
  {
   "cell_type": "markdown",
   "metadata": {},
   "source": [
    "# K-Means Anchors Ratios Tutorial"
   ]
  },
  {
   "cell_type": "code",
   "execution_count": 1,
   "metadata": {},
   "outputs": [],
   "source": [
    "import json\n",
    "import numpy as np\n",
    "import os\n",
    "\n",
    "%load_ext autoreload\n",
    "%autoreload 2"
   ]
  },
  {
   "cell_type": "markdown",
   "metadata": {},
   "source": [
    "## Get COCO train 2017 instances"
   ]
  },
  {
   "cell_type": "code",
   "execution_count": 2,
   "metadata": {},
   "outputs": [
    {
     "name": "stdout",
     "output_type": "stream",
     "text": [
      "Requirement already satisfied: tqdm in c:\\users\\a457934\\anaconda3\\lib\\site-packages (from -r requirements.txt (line 1)) (4.42.1)\n"
     ]
    }
   ],
   "source": [
    "INSTANCES_PATH = \"./annotations/instances_train2017.json\"\n",
    "\n",
    "!pip install -r requirements.txt\n",
    "if not os.path.exists(INSTANCES_PATH):\n",
    "    !wget http://images.cocodataset.org/annotations/annotations_trainval2017.zip\n",
    "    !unzip annotations_trainval2017.zip"
   ]
  },
  {
   "cell_type": "code",
   "execution_count": 3,
   "metadata": {},
   "outputs": [],
   "source": [
    "with open(INSTANCES_PATH) as f:\n",
    "    instances = json.load(f)"
   ]
  },
  {
   "cell_type": "markdown",
   "metadata": {},
   "source": [
    "## Get optimal anchors ratios"
   ]
  },
  {
   "cell_type": "code",
   "execution_count": 4,
   "metadata": {},
   "outputs": [
    {
     "data": {
      "text/plain": [
       "[32.0,\n",
       " 40.31747359663594,\n",
       " 50.79683366298238,\n",
       " 64.0,\n",
       " 80.63494719327188,\n",
       " 101.59366732596476,\n",
       " 128.0,\n",
       " 161.26989438654377,\n",
       " 203.18733465192952,\n",
       " 256.0,\n",
       " 322.53978877308754,\n",
       " 406.37466930385904,\n",
       " 512.0,\n",
       " 645.0795775461751,\n",
       " 812.7493386077181]"
      ]
     },
     "execution_count": 4,
     "metadata": {},
     "output_type": "execute_result"
    }
   ],
   "source": [
    "## change the following parameters according to your model:\n",
    "\n",
    "# EfficientDetD{PHI}\n",
    "PHI = 0  # for another efficientdet change only this, e.g. PHI = 3 for D3\n",
    "\n",
    "input_sizes = [512, 640, 768, 896, 1024, 1280, 1280, 1536, 1536]\n",
    "pyramid_levels = [5, 5, 5, 5, 5, 5, 5, 5, 6]\n",
    "anchor_scale = [4.0, 4.0, 4.0, 4.0, 4.0, 4.0, 4.0, 5.0, 4.0]\n",
    "\n",
    "scale = anchor_scale[PHI]\n",
    "strides = 2 ** np.arange(3, pyramid_levels[PHI] + 3)\n",
    "scales = np.array([2 ** 0, 2 ** (1.0 / 3.0), 2 ** (2.0 / 3.0)])\n",
    "\n",
    "INPUT_SIZE = input_sizes[PHI]\n",
    "ANCHORS_SIZES = (scale * scales * strides[:, np.newaxis]).flatten().tolist()\n",
    "ANCHORS_SIZES"
   ]
  },
  {
   "cell_type": "code",
   "execution_count": 5,
   "metadata": {},
   "outputs": [
    {
     "name": "stdout",
     "output_type": "stream",
     "text": [
      "[10/28 18:31:22] Starting the calculation of the optimal anchors ratios\n",
      "[10/28 18:31:22] Extracting and preprocessing bounding boxes\n",
      "[10/28 18:31:24] Discarding 2 bounding boxes with size lower or equal to 0\n"
     ]
    },
    {
     "name": "stderr",
     "output_type": "stream",
     "text": [
      "[10/28 18:31:24] K-Means (3 runs): 100%|██████████████████| 3/3 [00:27<00:00,  9.17s/it]"
     ]
    },
    {
     "name": "stdout",
     "output_type": "stream",
     "text": [
      "\tRuns avg. IoU: 80.48% ± 0.00% (mean ± std. dev. of 3 runs, 0 skipped)\n",
      "\tAvg. IoU between bboxes and their most similar anchors after norm. them to make their area equal (only ratios matter): 80.48%\n"
     ]
    },
    {
     "name": "stderr",
     "output_type": "stream",
     "text": [
      "\n"
     ]
    },
    {
     "name": "stdout",
     "output_type": "stream",
     "text": [
      "[10/28 18:31:56] Default anchors ratios: [(0.7, 1.4), (1.0, 1.0), (1.4, 0.7)]\n",
      "\tAvg. IoU between bboxes and their most similar default anchors, no norm. (both ratios and sizes matter): 62.25%\n",
      "\tNum. bboxes without similar default anchors (IoU < 0.5):  250598/860001 (29.14%)\n",
      "[10/28 18:32:01] K-Means anchors ratios: [(0.6, 1.5), (1.0, 1.0), (1.4, 0.7)]\n",
      "\tAvg. IoU between bboxes and their most similar K-Means anchors, no norm. (both ratios and sizes matter): 62.63%\n",
      "\tNum. bboxes without similar K-Means anchors (IoU < 0.5):  239153/860001 (27.81%)\n",
      "[10/28 18:32:03] K-Means anchors have an IoU < 50% with bboxes in 1.33% less cases than the default anchors, you should consider to use them\n"
     ]
    }
   ],
   "source": [
    "from kmeans_anchors_ratios import get_optimal_anchors_ratios\n",
    "\n",
    "anchors_ratios = get_optimal_anchors_ratios(\n",
    "    instances,\n",
    "    anchors_sizes=ANCHORS_SIZES,\n",
    "    input_size=INPUT_SIZE,\n",
    "    normalizes_bboxes=True,\n",
    "    num_runs=3,\n",
    "    num_anchors_ratios=3,\n",
    "    max_iter=300,\n",
    "    iou_threshold=0.5,\n",
    "    min_size=0,\n",
    "    decimals=1,\n",
    "    default_anchors_ratios=[(0.7, 1.4), (1.0, 1.0), (1.4, 0.7)]\n",
    ")"
   ]
  },
  {
   "cell_type": "markdown",
   "metadata": {},
   "source": [
    "## Generate anchors given ratios and sizes"
   ]
  },
  {
   "cell_type": "code",
   "execution_count": 6,
   "metadata": {},
   "outputs": [
    {
     "name": "stdout",
     "output_type": "stream",
     "text": [
      "Anchors:\n",
      "[[  19.2          48.        ]\n",
      " [  32.           32.        ]\n",
      " [  44.8          22.4       ]\n",
      " [  24.19048416   60.47621039]\n",
      " [  40.3174736    40.3174736 ]\n",
      " [  56.44446304   28.22223152]\n",
      " [  30.4781002    76.19525049]\n",
      " [  50.79683366   50.79683366]\n",
      " [  71.11556713   35.55778356]\n",
      " [  38.4          96.        ]\n",
      " [  64.           64.        ]\n",
      " [  89.6          44.8       ]\n",
      " [  48.38096832  120.95242079]\n",
      " [  80.63494719   80.63494719]\n",
      " [ 112.88892607   56.44446304]\n",
      " [  60.9562004   152.39050099]\n",
      " [ 101.59366733  101.59366733]\n",
      " [ 142.23113426   71.11556713]\n",
      " [  76.8         192.        ]\n",
      " [ 128.          128.        ]\n",
      " [ 179.2          89.6       ]\n",
      " [  96.76193663  241.90484158]\n",
      " [ 161.26989439  161.26989439]\n",
      " [ 225.77785214  112.88892607]\n",
      " [ 121.91240079  304.78100198]\n",
      " [ 203.18733465  203.18733465]\n",
      " [ 284.46226851  142.23113426]\n",
      " [ 153.6         384.        ]\n",
      " [ 256.          256.        ]\n",
      " [ 358.4         179.2       ]\n",
      " [ 193.52387326  483.80968316]\n",
      " [ 322.53978877  322.53978877]\n",
      " [ 451.55570428  225.77785214]\n",
      " [ 243.82480158  609.56200396]\n",
      " [ 406.3746693   406.3746693 ]\n",
      " [ 568.92453703  284.46226851]\n",
      " [ 307.2         768.        ]\n",
      " [ 512.          512.        ]\n",
      " [ 716.8         358.4       ]\n",
      " [ 387.04774653  967.61936632]\n",
      " [ 645.07957755  645.07957755]\n",
      " [ 903.11140856  451.55570428]\n",
      " [ 487.64960316 1219.12400791]\n",
      " [ 812.74933861  812.74933861]\n",
      " [1137.84907405  568.92453703]]\n"
     ]
    }
   ],
   "source": [
    "from kmeans_anchors_ratios import generate_anchors_given_ratios_and_sizes\n",
    "\n",
    "\n",
    "anchors = generate_anchors_given_ratios_and_sizes(anchors_ratios, ANCHORS_SIZES)\n",
    "print(\"Anchors:\")\n",
    "print(anchors)"
   ]
  },
  {
   "cell_type": "markdown",
   "metadata": {},
   "source": [
    "## Get bounding boxes adapted to the input size"
   ]
  },
  {
   "cell_type": "code",
   "execution_count": 7,
   "metadata": {},
   "outputs": [
    {
     "name": "stdout",
     "output_type": "stream",
     "text": [
      "Bounding boxes adapted to the input size (first 5):\n",
      "[[ 62.168  56.704]\n",
      " [119.512  30.84 ]\n",
      " [128.     46.248]\n",
      " [100.752  18.168]\n",
      " [ 53.176  53.4  ]]\n"
     ]
    }
   ],
   "source": [
    "from kmeans_anchors_ratios import get_bboxes_adapted_to_input_size\n",
    "\n",
    "\n",
    "resized_bboxes = get_bboxes_adapted_to_input_size(instances, input_size=INPUT_SIZE)\n",
    "resized_bboxes = resized_bboxes[resized_bboxes.prod(axis=1) > 0]  # remove 0 size\n",
    "print(\"Bounding boxes adapted to the input size (first 5):\")\n",
    "print(resized_bboxes[:5])"
   ]
  },
  {
   "cell_type": "markdown",
   "metadata": {},
   "source": [
    "## Get the avg. IoU between the bounding boxes and their closest anchors"
   ]
  },
  {
   "cell_type": "code",
   "execution_count": 8,
   "metadata": {},
   "outputs": [
    {
     "name": "stdout",
     "output_type": "stream",
     "text": [
      "Avg. IoU: 62.63%\n"
     ]
    }
   ],
   "source": [
    "from kmeans_anchors_ratios import average_iou\n",
    "\n",
    "\n",
    "avg_iou = average_iou(resized_bboxes, anchors)\n",
    "print(f\"Avg. IoU: {100 * avg_iou:.2f}%\")"
   ]
  },
  {
   "cell_type": "markdown",
   "metadata": {},
   "source": [
    "## Get annotations whose bounding boxes don't have similar anchors"
   ]
  },
  {
   "cell_type": "code",
   "execution_count": 9,
   "metadata": {},
   "outputs": [
    {
     "name": "stdout",
     "output_type": "stream",
     "text": [
      "Bounding boxes without similar anchors (first 5):\n",
      "[[125.94, 22.71], [26.17, 19.49], [13.28, 9.36], [34.03, 22.54], [29.63, 25.24]]\n",
      "Bounding boxes without similar anchors adapted to the input size (first 5):\n",
      "[[100.752  18.168]\n",
      " [ 20.936  15.592]\n",
      " [ 10.624   7.488]\n",
      " [ 27.224  18.032]\n",
      " [ 23.704  20.192]]\n"
     ]
    }
   ],
   "source": [
    "from kmeans_anchors_ratios import get_annotations_without_similar_anchors\n",
    "\n",
    "\n",
    "annotations = get_annotations_without_similar_anchors(\n",
    "    instances,\n",
    "    anchors_ratios,\n",
    "    anchors_sizes=ANCHORS_SIZES,\n",
    "    input_size=INPUT_SIZE,\n",
    "    iou_threshold=0.5,\n",
    "    min_size=0,\n",
    ")\n",
    "\n",
    "bboxes = [ann[\"bbox\"][-2:] for ann in annotations]  # widths and heights\n",
    "print(\"Bounding boxes without similar anchors (first 5):\")\n",
    "print(bboxes[:5])\n",
    "\n",
    "instances_without_similar_anchors = instances.copy()\n",
    "instances_without_similar_anchors[\"annotations\"] = annotations\n",
    "resized_bboxes = get_bboxes_adapted_to_input_size(instances_without_similar_anchors, input_size=INPUT_SIZE)\n",
    "print(\"Bounding boxes without similar anchors adapted to the input size (first 5):\")\n",
    "print(resized_bboxes[:5])"
   ]
  }
 ],
 "metadata": {
  "kernelspec": {
   "display_name": "Python 3",
   "language": "python",
   "name": "python3"
  },
  "language_info": {
   "codemirror_mode": {
    "name": "ipython",
    "version": 3
   },
   "file_extension": ".py",
   "mimetype": "text/x-python",
   "name": "python",
   "nbconvert_exporter": "python",
   "pygments_lexer": "ipython3",
   "version": "3.7.6"
  }
 },
 "nbformat": 4,
 "nbformat_minor": 4
}
